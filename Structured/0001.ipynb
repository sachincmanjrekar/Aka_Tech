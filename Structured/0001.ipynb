{
 "cells": [
  {
   "cell_type": "code",
   "execution_count": 1,
   "metadata": {
    "id": "JLcBZjsGzsWd"
   },
   "outputs": [],
   "source": [
    "import pandas as pd\n",
    "import matplotlib.pyplot as plt\n",
    "import seaborn as sns\n",
    "from xgboost import XGBClassifier\n",
    "from sklearn.metrics import mean_squared_error\n",
    "import numpy as np\n",
    "from sklearn.model_selection import cross_val_score\n",
    "from sklearn.tree import DecisionTreeClassifier\n",
    "from sklearn.neighbors import KNeighborsClassifier\n",
    "from sklearn import metrics \n",
    "from sklearn.preprocessing import StandardScaler ## standrard scalig \n",
    "from sklearn.metrics import f1_score\n",
    "import pandas as pd\n",
    "import warnings\n",
    "warnings.filterwarnings(\"ignore\")"
   ]
  },
  {
   "cell_type": "code",
   "execution_count": 2,
   "metadata": {
    "id": "SWivG7aw3w-i"
   },
   "outputs": [],
   "source": [
    "import warnings\n",
    "warnings.filterwarnings(\"ignore\")"
   ]
  },
  {
   "cell_type": "code",
   "execution_count": 3,
   "metadata": {
    "colab": {
     "base_uri": "https://localhost:8080/",
     "height": 423
    },
    "id": "u3I98pkH0HwV",
    "outputId": "35813597-94d9-4483-b206-c9c2e8c36366"
   },
   "outputs": [
    {
     "data": {
      "text/html": [
       "<div>\n",
       "<style scoped>\n",
       "    .dataframe tbody tr th:only-of-type {\n",
       "        vertical-align: middle;\n",
       "    }\n",
       "\n",
       "    .dataframe tbody tr th {\n",
       "        vertical-align: top;\n",
       "    }\n",
       "\n",
       "    .dataframe thead th {\n",
       "        text-align: right;\n",
       "    }\n",
       "</style>\n",
       "<table border=\"1\" class=\"dataframe\">\n",
       "  <thead>\n",
       "    <tr style=\"text-align: right;\">\n",
       "      <th></th>\n",
       "      <th>Patient-Uid</th>\n",
       "      <th>Date</th>\n",
       "      <th>Incident</th>\n",
       "    </tr>\n",
       "  </thead>\n",
       "  <tbody>\n",
       "    <tr>\n",
       "      <th>0</th>\n",
       "      <td>a0db1e73-1c7c-11ec-ae39-16262ee38c7f</td>\n",
       "      <td>2019-03-09</td>\n",
       "      <td>PRIMARY_DIAGNOSIS</td>\n",
       "    </tr>\n",
       "    <tr>\n",
       "      <th>1</th>\n",
       "      <td>a0dc93f2-1c7c-11ec-9cd2-16262ee38c7f</td>\n",
       "      <td>2015-05-16</td>\n",
       "      <td>PRIMARY_DIAGNOSIS</td>\n",
       "    </tr>\n",
       "    <tr>\n",
       "      <th>3</th>\n",
       "      <td>a0dc94c6-1c7c-11ec-a3a0-16262ee38c7f</td>\n",
       "      <td>2018-01-30</td>\n",
       "      <td>SYMPTOM_TYPE_0</td>\n",
       "    </tr>\n",
       "    <tr>\n",
       "      <th>4</th>\n",
       "      <td>a0dc950b-1c7c-11ec-b6ec-16262ee38c7f</td>\n",
       "      <td>2015-04-22</td>\n",
       "      <td>DRUG_TYPE_0</td>\n",
       "    </tr>\n",
       "    <tr>\n",
       "      <th>8</th>\n",
       "      <td>a0dc9543-1c7c-11ec-bb63-16262ee38c7f</td>\n",
       "      <td>2016-06-18</td>\n",
       "      <td>DRUG_TYPE_1</td>\n",
       "    </tr>\n",
       "    <tr>\n",
       "      <th>...</th>\n",
       "      <td>...</td>\n",
       "      <td>...</td>\n",
       "      <td>...</td>\n",
       "    </tr>\n",
       "    <tr>\n",
       "      <th>29080886</th>\n",
       "      <td>a0ee9f75-1c7c-11ec-94c7-16262ee38c7f</td>\n",
       "      <td>2018-07-06</td>\n",
       "      <td>DRUG_TYPE_6</td>\n",
       "    </tr>\n",
       "    <tr>\n",
       "      <th>29080897</th>\n",
       "      <td>a0ee1284-1c7c-11ec-a3d5-16262ee38c7f</td>\n",
       "      <td>2017-12-29</td>\n",
       "      <td>DRUG_TYPE_6</td>\n",
       "    </tr>\n",
       "    <tr>\n",
       "      <th>29080900</th>\n",
       "      <td>a0ee9b26-1c7c-11ec-8a40-16262ee38c7f</td>\n",
       "      <td>2018-10-18</td>\n",
       "      <td>DRUG_TYPE_10</td>\n",
       "    </tr>\n",
       "    <tr>\n",
       "      <th>29080903</th>\n",
       "      <td>a0ee1a92-1c7c-11ec-8341-16262ee38c7f</td>\n",
       "      <td>2015-09-18</td>\n",
       "      <td>DRUG_TYPE_6</td>\n",
       "    </tr>\n",
       "    <tr>\n",
       "      <th>29080911</th>\n",
       "      <td>a0ee146e-1c7c-11ec-baee-16262ee38c7f</td>\n",
       "      <td>2018-10-05</td>\n",
       "      <td>DRUG_TYPE_1</td>\n",
       "    </tr>\n",
       "  </tbody>\n",
       "</table>\n",
       "<p>3220868 rows × 3 columns</p>\n",
       "</div>"
      ],
      "text/plain": [
       "                                   Patient-Uid       Date           Incident\n",
       "0         a0db1e73-1c7c-11ec-ae39-16262ee38c7f 2019-03-09  PRIMARY_DIAGNOSIS\n",
       "1         a0dc93f2-1c7c-11ec-9cd2-16262ee38c7f 2015-05-16  PRIMARY_DIAGNOSIS\n",
       "3         a0dc94c6-1c7c-11ec-a3a0-16262ee38c7f 2018-01-30     SYMPTOM_TYPE_0\n",
       "4         a0dc950b-1c7c-11ec-b6ec-16262ee38c7f 2015-04-22        DRUG_TYPE_0\n",
       "8         a0dc9543-1c7c-11ec-bb63-16262ee38c7f 2016-06-18        DRUG_TYPE_1\n",
       "...                                        ...        ...                ...\n",
       "29080886  a0ee9f75-1c7c-11ec-94c7-16262ee38c7f 2018-07-06        DRUG_TYPE_6\n",
       "29080897  a0ee1284-1c7c-11ec-a3d5-16262ee38c7f 2017-12-29        DRUG_TYPE_6\n",
       "29080900  a0ee9b26-1c7c-11ec-8a40-16262ee38c7f 2018-10-18       DRUG_TYPE_10\n",
       "29080903  a0ee1a92-1c7c-11ec-8341-16262ee38c7f 2015-09-18        DRUG_TYPE_6\n",
       "29080911  a0ee146e-1c7c-11ec-baee-16262ee38c7f 2018-10-05        DRUG_TYPE_1\n",
       "\n",
       "[3220868 rows x 3 columns]"
      ]
     },
     "execution_count": 3,
     "metadata": {},
     "output_type": "execute_result"
    }
   ],
   "source": [
    "df1 = pd.read_parquet('train.parquet')\n",
    "df1"
   ]
  },
  {
   "cell_type": "code",
   "execution_count": 4,
   "metadata": {
    "colab": {
     "base_uri": "https://localhost:8080/"
    },
    "id": "cPQBwAgW2i8B",
    "outputId": "051f62ca-d7c3-4bd3-9bf6-6a6926621688"
   },
   "outputs": [
    {
     "data": {
      "text/plain": [
       "Patient-Uid    0\n",
       "Date           0\n",
       "Incident       0\n",
       "dtype: int64"
      ]
     },
     "execution_count": 4,
     "metadata": {},
     "output_type": "execute_result"
    }
   ],
   "source": [
    "df1.isnull().sum()"
   ]
  },
  {
   "cell_type": "markdown",
   "metadata": {
    "id": "Y1_WyVHl2y2k"
   },
   "source": [
    "Checking for duplicates"
   ]
  },
  {
   "cell_type": "code",
   "execution_count": 5,
   "metadata": {
    "colab": {
     "base_uri": "https://localhost:8080/"
    },
    "id": "ZF87g-C-22oz",
    "outputId": "78f74643-fc8f-4ecb-89cc-1bd198fac2f7"
   },
   "outputs": [
    {
     "data": {
      "text/plain": [
       "35571"
      ]
     },
     "execution_count": 5,
     "metadata": {},
     "output_type": "execute_result"
    }
   ],
   "source": [
    "df1.duplicated().sum()\n"
   ]
  },
  {
   "cell_type": "code",
   "execution_count": 6,
   "metadata": {
    "id": "2sI5R_Hc3AHq"
   },
   "outputs": [],
   "source": [
    "df1.drop_duplicates(inplace=True)"
   ]
  },
  {
   "cell_type": "code",
   "execution_count": 7,
   "metadata": {
    "colab": {
     "base_uri": "https://localhost:8080/"
    },
    "id": "91xVsRTR3NdW",
    "outputId": "7ad3b0fa-3c23-44bc-8b40-215b1b618c88"
   },
   "outputs": [
    {
     "data": {
      "text/plain": [
       "0"
      ]
     },
     "execution_count": 7,
     "metadata": {},
     "output_type": "execute_result"
    }
   ],
   "source": [
    "df1.duplicated().sum()"
   ]
  },
  {
   "cell_type": "code",
   "execution_count": 8,
   "metadata": {
    "id": "_6tiZyIn4r71"
   },
   "outputs": [],
   "source": [
    "from datetime import datetime, timedelta\n",
    "df1['Date'] = pd.to_datetime(df1['Date']) "
   ]
  },
  {
   "cell_type": "code",
   "execution_count": 9,
   "metadata": {
    "colab": {
     "base_uri": "https://localhost:8080/"
    },
    "id": "6aG8wKdBIwdc",
    "outputId": "8034a130-84e5-4387-8a65-c2340d4e8365"
   },
   "outputs": [
    {
     "data": {
      "text/plain": [
       "dtype('<M8[ns]')"
      ]
     },
     "execution_count": 9,
     "metadata": {},
     "output_type": "execute_result"
    }
   ],
   "source": [
    "df1.Date.dtype"
   ]
  },
  {
   "cell_type": "markdown",
   "metadata": {
    "id": "5cQfqicyi1BK"
   },
   "source": [
    "**Encoding**"
   ]
  },
  {
   "cell_type": "code",
   "execution_count": 10,
   "metadata": {
    "colab": {
     "base_uri": "https://localhost:8080/"
    },
    "id": "fjs4gtI5fZq1",
    "outputId": "a42fa968-4e9c-4121-d0a4-211debd7fe4c"
   },
   "outputs": [
    {
     "name": "stdout",
     "output_type": "stream",
     "text": [
      "                                   Patient-Uid       Date           Incident  \\\n",
      "0         a0db1e73-1c7c-11ec-ae39-16262ee38c7f 2019-03-09  PRIMARY_DIAGNOSIS   \n",
      "1         a0dc93f2-1c7c-11ec-9cd2-16262ee38c7f 2015-05-16  PRIMARY_DIAGNOSIS   \n",
      "3         a0dc94c6-1c7c-11ec-a3a0-16262ee38c7f 2018-01-30     SYMPTOM_TYPE_0   \n",
      "4         a0dc950b-1c7c-11ec-b6ec-16262ee38c7f 2015-04-22        DRUG_TYPE_0   \n",
      "8         a0dc9543-1c7c-11ec-bb63-16262ee38c7f 2016-06-18        DRUG_TYPE_1   \n",
      "...                                        ...        ...                ...   \n",
      "29080886  a0ee9f75-1c7c-11ec-94c7-16262ee38c7f 2018-07-06        DRUG_TYPE_6   \n",
      "29080897  a0ee1284-1c7c-11ec-a3d5-16262ee38c7f 2017-12-29        DRUG_TYPE_6   \n",
      "29080900  a0ee9b26-1c7c-11ec-8a40-16262ee38c7f 2018-10-18       DRUG_TYPE_10   \n",
      "29080903  a0ee1a92-1c7c-11ec-8341-16262ee38c7f 2015-09-18        DRUG_TYPE_6   \n",
      "29080911  a0ee146e-1c7c-11ec-baee-16262ee38c7f 2018-10-05        DRUG_TYPE_1   \n",
      "\n",
      "          Target_Drug_Taken  \n",
      "0                         0  \n",
      "1                         0  \n",
      "3                         0  \n",
      "4                         0  \n",
      "8                         0  \n",
      "...                     ...  \n",
      "29080886                  0  \n",
      "29080897                  0  \n",
      "29080900                  0  \n",
      "29080903                  0  \n",
      "29080911                  0  \n",
      "\n",
      "[3185297 rows x 4 columns]\n"
     ]
    }
   ],
   "source": [
    "df1['Target_Drug_Taken'] = df1['Incident'].apply(lambda x: 1 if x == 'TARGET DRUG' else 0)\n",
    "\n",
    "print(df1)"
   ]
  },
  {
   "cell_type": "code",
   "execution_count": 11,
   "metadata": {
    "colab": {
     "base_uri": "https://localhost:8080/"
    },
    "id": "wHyqWqUEfgIa",
    "outputId": "41308129-a114-47c5-eb3b-da4fa8f6b39f"
   },
   "outputs": [
    {
     "data": {
      "text/plain": [
       "array(['PRIMARY_DIAGNOSIS', 'SYMPTOM_TYPE_0', 'DRUG_TYPE_0',\n",
       "       'DRUG_TYPE_1', 'DRUG_TYPE_2', 'TEST_TYPE_0', 'DRUG_TYPE_3',\n",
       "       'DRUG_TYPE_4', 'DRUG_TYPE_5', 'DRUG_TYPE_6', 'DRUG_TYPE_8',\n",
       "       'DRUG_TYPE_7', 'SYMPTOM_TYPE_1', 'DRUG_TYPE_10', 'SYMPTOM_TYPE_29',\n",
       "       'SYMPTOM_TYPE_2', 'DRUG_TYPE_11', 'DRUG_TYPE_9', 'DRUG_TYPE_13',\n",
       "       'SYMPTOM_TYPE_5', 'TEST_TYPE_1', 'SYMPTOM_TYPE_6', 'TEST_TYPE_2',\n",
       "       'SYMPTOM_TYPE_3', 'SYMPTOM_TYPE_8', 'DRUG_TYPE_14', 'DRUG_TYPE_12',\n",
       "       'SYMPTOM_TYPE_9', 'SYMPTOM_TYPE_10', 'SYMPTOM_TYPE_7',\n",
       "       'SYMPTOM_TYPE_11', 'TEST_TYPE_3', 'DRUG_TYPE_15', 'SYMPTOM_TYPE_4',\n",
       "       'SYMPTOM_TYPE_14', 'SYMPTOM_TYPE_13', 'SYMPTOM_TYPE_16',\n",
       "       'SYMPTOM_TYPE_17', 'SYMPTOM_TYPE_15', 'SYMPTOM_TYPE_18',\n",
       "       'SYMPTOM_TYPE_12', 'SYMPTOM_TYPE_20', 'SYMPTOM_TYPE_21',\n",
       "       'DRUG_TYPE_17', 'SYMPTOM_TYPE_22', 'TEST_TYPE_4',\n",
       "       'SYMPTOM_TYPE_23', 'DRUG_TYPE_16', 'TEST_TYPE_5',\n",
       "       'SYMPTOM_TYPE_19', 'SYMPTOM_TYPE_24', 'SYMPTOM_TYPE_25',\n",
       "       'SYMPTOM_TYPE_26', 'SYMPTOM_TYPE_27', 'DRUG_TYPE_18',\n",
       "       'SYMPTOM_TYPE_28', 'TARGET DRUG'], dtype=object)"
      ]
     },
     "execution_count": 11,
     "metadata": {},
     "output_type": "execute_result"
    }
   ],
   "source": [
    "df1.Incident.unique()"
   ]
  },
  {
   "cell_type": "code",
   "execution_count": 12,
   "metadata": {
    "colab": {
     "base_uri": "https://localhost:8080/"
    },
    "id": "wtD7zBbIbW4T",
    "outputId": "6bce90e7-9f5f-47c1-f51a-3314626a55d3"
   },
   "outputs": [
    {
     "name": "stdout",
     "output_type": "stream",
     "text": [
      "0    3118079\n",
      "1      67218\n",
      "Name: Target_Drug_Taken, dtype: int64\n"
     ]
    }
   ],
   "source": [
    "incident_counts = df1['Target_Drug_Taken'].value_counts()\n",
    "print(incident_counts)"
   ]
  },
  {
   "cell_type": "code",
   "execution_count": 13,
   "metadata": {
    "id": "YAn8ReQ1cXXt"
   },
   "outputs": [],
   "source": [
    "from sklearn.preprocessing import LabelEncoder\n",
    "\n",
    "encoder = LabelEncoder()\n",
    "df1['Patient-Uid'] = encoder.fit_transform(df1['Patient-Uid'])\n",
    "df1['Incident'] = encoder.fit_transform(df1['Incident'])"
   ]
  },
  {
   "cell_type": "code",
   "execution_count": 14,
   "metadata": {},
   "outputs": [
    {
     "data": {
      "text/html": [
       "<div>\n",
       "<style scoped>\n",
       "    .dataframe tbody tr th:only-of-type {\n",
       "        vertical-align: middle;\n",
       "    }\n",
       "\n",
       "    .dataframe tbody tr th {\n",
       "        vertical-align: top;\n",
       "    }\n",
       "\n",
       "    .dataframe thead th {\n",
       "        text-align: right;\n",
       "    }\n",
       "</style>\n",
       "<table border=\"1\" class=\"dataframe\">\n",
       "  <thead>\n",
       "    <tr style=\"text-align: right;\">\n",
       "      <th></th>\n",
       "      <th>Patient-Uid</th>\n",
       "      <th>Date</th>\n",
       "      <th>Incident</th>\n",
       "      <th>Target_Drug_Taken</th>\n",
       "    </tr>\n",
       "  </thead>\n",
       "  <tbody>\n",
       "    <tr>\n",
       "      <th>0</th>\n",
       "      <td>0</td>\n",
       "      <td>2019-03-09</td>\n",
       "      <td>19</td>\n",
       "      <td>0</td>\n",
       "    </tr>\n",
       "    <tr>\n",
       "      <th>1</th>\n",
       "      <td>1</td>\n",
       "      <td>2015-05-16</td>\n",
       "      <td>19</td>\n",
       "      <td>0</td>\n",
       "    </tr>\n",
       "    <tr>\n",
       "      <th>3</th>\n",
       "      <td>2</td>\n",
       "      <td>2018-01-30</td>\n",
       "      <td>20</td>\n",
       "      <td>0</td>\n",
       "    </tr>\n",
       "    <tr>\n",
       "      <th>4</th>\n",
       "      <td>3</td>\n",
       "      <td>2015-04-22</td>\n",
       "      <td>0</td>\n",
       "      <td>0</td>\n",
       "    </tr>\n",
       "    <tr>\n",
       "      <th>8</th>\n",
       "      <td>4</td>\n",
       "      <td>2016-06-18</td>\n",
       "      <td>1</td>\n",
       "      <td>0</td>\n",
       "    </tr>\n",
       "  </tbody>\n",
       "</table>\n",
       "</div>"
      ],
      "text/plain": [
       "   Patient-Uid       Date  Incident  Target_Drug_Taken\n",
       "0            0 2019-03-09        19                  0\n",
       "1            1 2015-05-16        19                  0\n",
       "3            2 2018-01-30        20                  0\n",
       "4            3 2015-04-22         0                  0\n",
       "8            4 2016-06-18         1                  0"
      ]
     },
     "execution_count": 14,
     "metadata": {},
     "output_type": "execute_result"
    }
   ],
   "source": [
    "df1.head()"
   ]
  },
  {
   "cell_type": "code",
   "execution_count": 15,
   "metadata": {
    "colab": {
     "base_uri": "https://localhost:8080/",
     "height": 423
    },
    "id": "7vSqb50Ae6CB",
    "outputId": "6deefe29-d4b2-4a10-9944-2beea03ad40c",
    "scrolled": true
   },
   "outputs": [],
   "source": [
    "df1.sort_values(['Patient-Uid', 'Date'], ascending=True,inplace=True)"
   ]
  },
  {
   "cell_type": "code",
   "execution_count": 16,
   "metadata": {},
   "outputs": [],
   "source": [
    "Target_Drug_Taken = 1  # Change to your desired tablet"
   ]
  },
  {
   "cell_type": "code",
   "execution_count": 17,
   "metadata": {},
   "outputs": [
    {
     "data": {
      "text/html": [
       "<div>\n",
       "<style scoped>\n",
       "    .dataframe tbody tr th:only-of-type {\n",
       "        vertical-align: middle;\n",
       "    }\n",
       "\n",
       "    .dataframe tbody tr th {\n",
       "        vertical-align: top;\n",
       "    }\n",
       "\n",
       "    .dataframe thead th {\n",
       "        text-align: right;\n",
       "    }\n",
       "</style>\n",
       "<table border=\"1\" class=\"dataframe\">\n",
       "  <thead>\n",
       "    <tr style=\"text-align: right;\">\n",
       "      <th></th>\n",
       "      <th>Patient-Uid</th>\n",
       "      <th>Date</th>\n",
       "      <th>Incident</th>\n",
       "      <th>Target_Drug_Taken</th>\n",
       "      <th>LastOccurrenceDate</th>\n",
       "      <th>DaysSinceLastOccurrence</th>\n",
       "    </tr>\n",
       "  </thead>\n",
       "  <tbody>\n",
       "    <tr>\n",
       "      <th>1750087</th>\n",
       "      <td>0</td>\n",
       "      <td>2015-09-22</td>\n",
       "      <td>16</td>\n",
       "      <td>0</td>\n",
       "      <td>NaT</td>\n",
       "      <td>NaN</td>\n",
       "    </tr>\n",
       "    <tr>\n",
       "      <th>1473893</th>\n",
       "      <td>0</td>\n",
       "      <td>2018-04-13</td>\n",
       "      <td>32</td>\n",
       "      <td>0</td>\n",
       "      <td>NaT</td>\n",
       "      <td>NaN</td>\n",
       "    </tr>\n",
       "    <tr>\n",
       "      <th>1387922</th>\n",
       "      <td>0</td>\n",
       "      <td>2018-05-02</td>\n",
       "      <td>16</td>\n",
       "      <td>0</td>\n",
       "      <td>NaT</td>\n",
       "      <td>NaN</td>\n",
       "    </tr>\n",
       "    <tr>\n",
       "      <th>223191</th>\n",
       "      <td>0</td>\n",
       "      <td>2018-11-23</td>\n",
       "      <td>20</td>\n",
       "      <td>0</td>\n",
       "      <td>NaT</td>\n",
       "      <td>NaN</td>\n",
       "    </tr>\n",
       "    <tr>\n",
       "      <th>557302</th>\n",
       "      <td>0</td>\n",
       "      <td>2018-11-23</td>\n",
       "      <td>18</td>\n",
       "      <td>0</td>\n",
       "      <td>NaT</td>\n",
       "      <td>NaN</td>\n",
       "    </tr>\n",
       "  </tbody>\n",
       "</table>\n",
       "</div>"
      ],
      "text/plain": [
       "         Patient-Uid       Date  Incident  Target_Drug_Taken  \\\n",
       "1750087            0 2015-09-22        16                  0   \n",
       "1473893            0 2018-04-13        32                  0   \n",
       "1387922            0 2018-05-02        16                  0   \n",
       "223191             0 2018-11-23        20                  0   \n",
       "557302             0 2018-11-23        18                  0   \n",
       "\n",
       "        LastOccurrenceDate  DaysSinceLastOccurrence  \n",
       "1750087                NaT                      NaN  \n",
       "1473893                NaT                      NaN  \n",
       "1387922                NaT                      NaN  \n",
       "223191                 NaT                      NaN  \n",
       "557302                 NaT                      NaN  "
      ]
     },
     "execution_count": 17,
     "metadata": {},
     "output_type": "execute_result"
    }
   ],
   "source": [
    "# Function to calculate the last occurrence date for a given person and tablet\n",
    "def calculate_last_occurrence_date(group):\n",
    "    group['LastOccurrenceDate'] = pd.NaT\n",
    "    for index, row in group.iterrows():\n",
    "        if row['Target_Drug_Taken'] == 1:\n",
    "            group.at[index, 'LastOccurrenceDate'] = row['Date']\n",
    "    group['LastOccurrenceDate'].fillna(method='ffill', inplace=True)\n",
    "    group['DaysSinceLastOccurrence'] = (group['Date'] - group['LastOccurrenceDate']).dt.days\n",
    "    return group\n",
    "\n",
    "# Apply the function to each group of persons\n",
    "df1 = df1.groupby('Patient-Uid').apply(calculate_last_occurrence_date)\n",
    "\n",
    "# Print the updated DataFrame\n",
    "df1.head()"
   ]
  },
  {
   "cell_type": "code",
   "execution_count": 18,
   "metadata": {},
   "outputs": [
    {
     "data": {
      "text/html": [
       "<div>\n",
       "<style scoped>\n",
       "    .dataframe tbody tr th:only-of-type {\n",
       "        vertical-align: middle;\n",
       "    }\n",
       "\n",
       "    .dataframe tbody tr th {\n",
       "        vertical-align: top;\n",
       "    }\n",
       "\n",
       "    .dataframe thead th {\n",
       "        text-align: right;\n",
       "    }\n",
       "</style>\n",
       "<table border=\"1\" class=\"dataframe\">\n",
       "  <thead>\n",
       "    <tr style=\"text-align: right;\">\n",
       "      <th></th>\n",
       "      <th>Patient-Uid</th>\n",
       "      <th>Date</th>\n",
       "      <th>Incident</th>\n",
       "      <th>Target_Drug_Taken</th>\n",
       "      <th>LastOccurrenceDate</th>\n",
       "      <th>DaysSinceLastOccurrence</th>\n",
       "    </tr>\n",
       "  </thead>\n",
       "  <tbody>\n",
       "    <tr>\n",
       "      <th>1750087</th>\n",
       "      <td>0</td>\n",
       "      <td>2015-09-22</td>\n",
       "      <td>16</td>\n",
       "      <td>0</td>\n",
       "      <td>NaT</td>\n",
       "      <td>NaN</td>\n",
       "    </tr>\n",
       "    <tr>\n",
       "      <th>1473893</th>\n",
       "      <td>0</td>\n",
       "      <td>2018-04-13</td>\n",
       "      <td>32</td>\n",
       "      <td>0</td>\n",
       "      <td>NaT</td>\n",
       "      <td>NaN</td>\n",
       "    </tr>\n",
       "    <tr>\n",
       "      <th>1387922</th>\n",
       "      <td>0</td>\n",
       "      <td>2018-05-02</td>\n",
       "      <td>16</td>\n",
       "      <td>0</td>\n",
       "      <td>NaT</td>\n",
       "      <td>NaN</td>\n",
       "    </tr>\n",
       "    <tr>\n",
       "      <th>223191</th>\n",
       "      <td>0</td>\n",
       "      <td>2018-11-23</td>\n",
       "      <td>20</td>\n",
       "      <td>0</td>\n",
       "      <td>NaT</td>\n",
       "      <td>NaN</td>\n",
       "    </tr>\n",
       "    <tr>\n",
       "      <th>557302</th>\n",
       "      <td>0</td>\n",
       "      <td>2018-11-23</td>\n",
       "      <td>18</td>\n",
       "      <td>0</td>\n",
       "      <td>NaT</td>\n",
       "      <td>NaN</td>\n",
       "    </tr>\n",
       "  </tbody>\n",
       "</table>\n",
       "</div>"
      ],
      "text/plain": [
       "         Patient-Uid       Date  Incident  Target_Drug_Taken  \\\n",
       "1750087            0 2015-09-22        16                  0   \n",
       "1473893            0 2018-04-13        32                  0   \n",
       "1387922            0 2018-05-02        16                  0   \n",
       "223191             0 2018-11-23        20                  0   \n",
       "557302             0 2018-11-23        18                  0   \n",
       "\n",
       "        LastOccurrenceDate  DaysSinceLastOccurrence  \n",
       "1750087                NaT                      NaN  \n",
       "1473893                NaT                      NaN  \n",
       "1387922                NaT                      NaN  \n",
       "223191                 NaT                      NaN  \n",
       "557302                 NaT                      NaN  "
      ]
     },
     "execution_count": 18,
     "metadata": {},
     "output_type": "execute_result"
    }
   ],
   "source": [
    "df1.head()"
   ]
  },
  {
   "cell_type": "code",
   "execution_count": 19,
   "metadata": {},
   "outputs": [],
   "source": [
    "df1.sort_values(['Patient-Uid', 'Date'], ascending=True,inplace=True)"
   ]
  },
  {
   "cell_type": "code",
   "execution_count": 20,
   "metadata": {},
   "outputs": [
    {
     "data": {
      "text/html": [
       "<div>\n",
       "<style scoped>\n",
       "    .dataframe tbody tr th:only-of-type {\n",
       "        vertical-align: middle;\n",
       "    }\n",
       "\n",
       "    .dataframe tbody tr th {\n",
       "        vertical-align: top;\n",
       "    }\n",
       "\n",
       "    .dataframe thead th {\n",
       "        text-align: right;\n",
       "    }\n",
       "</style>\n",
       "<table border=\"1\" class=\"dataframe\">\n",
       "  <thead>\n",
       "    <tr style=\"text-align: right;\">\n",
       "      <th></th>\n",
       "      <th>Patient-Uid</th>\n",
       "      <th>Date</th>\n",
       "      <th>Incident</th>\n",
       "      <th>Target_Drug_Taken</th>\n",
       "      <th>LastOccurrenceDate</th>\n",
       "      <th>DaysSinceLastOccurrence</th>\n",
       "    </tr>\n",
       "  </thead>\n",
       "  <tbody>\n",
       "    <tr>\n",
       "      <th>1750087</th>\n",
       "      <td>0</td>\n",
       "      <td>2015-09-22</td>\n",
       "      <td>16</td>\n",
       "      <td>0</td>\n",
       "      <td>NaT</td>\n",
       "      <td>NaN</td>\n",
       "    </tr>\n",
       "    <tr>\n",
       "      <th>1473893</th>\n",
       "      <td>0</td>\n",
       "      <td>2018-04-13</td>\n",
       "      <td>32</td>\n",
       "      <td>0</td>\n",
       "      <td>NaT</td>\n",
       "      <td>NaN</td>\n",
       "    </tr>\n",
       "    <tr>\n",
       "      <th>1387922</th>\n",
       "      <td>0</td>\n",
       "      <td>2018-05-02</td>\n",
       "      <td>16</td>\n",
       "      <td>0</td>\n",
       "      <td>NaT</td>\n",
       "      <td>NaN</td>\n",
       "    </tr>\n",
       "    <tr>\n",
       "      <th>223191</th>\n",
       "      <td>0</td>\n",
       "      <td>2018-11-23</td>\n",
       "      <td>20</td>\n",
       "      <td>0</td>\n",
       "      <td>NaT</td>\n",
       "      <td>NaN</td>\n",
       "    </tr>\n",
       "    <tr>\n",
       "      <th>557302</th>\n",
       "      <td>0</td>\n",
       "      <td>2018-11-23</td>\n",
       "      <td>18</td>\n",
       "      <td>0</td>\n",
       "      <td>NaT</td>\n",
       "      <td>NaN</td>\n",
       "    </tr>\n",
       "  </tbody>\n",
       "</table>\n",
       "</div>"
      ],
      "text/plain": [
       "         Patient-Uid       Date  Incident  Target_Drug_Taken  \\\n",
       "1750087            0 2015-09-22        16                  0   \n",
       "1473893            0 2018-04-13        32                  0   \n",
       "1387922            0 2018-05-02        16                  0   \n",
       "223191             0 2018-11-23        20                  0   \n",
       "557302             0 2018-11-23        18                  0   \n",
       "\n",
       "        LastOccurrenceDate  DaysSinceLastOccurrence  \n",
       "1750087                NaT                      NaN  \n",
       "1473893                NaT                      NaN  \n",
       "1387922                NaT                      NaN  \n",
       "223191                 NaT                      NaN  \n",
       "557302                 NaT                      NaN  "
      ]
     },
     "execution_count": 20,
     "metadata": {},
     "output_type": "execute_result"
    }
   ],
   "source": [
    "df1.head()"
   ]
  },
  {
   "cell_type": "code",
   "execution_count": 21,
   "metadata": {},
   "outputs": [],
   "source": [
    "grouped = df1.groupby('Patient-Uid')\n",
    "\n",
    "# Create a new column 'Eligible_within_30days' and initialize with False\n",
    "df1['Eligible_within_30days'] = False\n",
    "\n",
    "# Iterate over each group\n",
    "for name, group in grouped:\n",
    "    person_filter = group['Target_Drug_Taken'] == 1\n",
    "    if person_filter.sum() > 0:\n",
    "        # If person has already taken 'paracetamol' once, set Eligible_within_30days to True from that date onwards\n",
    "        first_occurrence_date = group.loc[person_filter, 'Date'].min()\n",
    "        df1.loc[(df1['Patient-Uid'] == name) & (df1['Date'] >= first_occurrence_date), 'Eligible_within_30days'] = True\n",
    "    else:\n",
    "        # If person hasn't taken 'paracetamol' before, check if they take it within the next two days\n",
    "        next_30_days = pd.date_range(start=group['Date'].max(), periods=30)\n",
    "        eligible_filter = group['Date'].isin(next_30_days)\n",
    "        df1.loc[df1['Patient-Uid'] == name, 'Eligible_within_30days'] = eligible_filter\n",
    "\n",
    "# Sort the DataFrame by 'Person' and 'Date'\n",
    "df1.sort_values(['Patient-Uid', 'Date'], inplace=True)"
   ]
  },
  {
   "cell_type": "code",
   "execution_count": 22,
   "metadata": {},
   "outputs": [
    {
     "data": {
      "text/html": [
       "<div>\n",
       "<style scoped>\n",
       "    .dataframe tbody tr th:only-of-type {\n",
       "        vertical-align: middle;\n",
       "    }\n",
       "\n",
       "    .dataframe tbody tr th {\n",
       "        vertical-align: top;\n",
       "    }\n",
       "\n",
       "    .dataframe thead th {\n",
       "        text-align: right;\n",
       "    }\n",
       "</style>\n",
       "<table border=\"1\" class=\"dataframe\">\n",
       "  <thead>\n",
       "    <tr style=\"text-align: right;\">\n",
       "      <th></th>\n",
       "      <th>Patient-Uid</th>\n",
       "      <th>Date</th>\n",
       "      <th>Incident</th>\n",
       "      <th>Target_Drug_Taken</th>\n",
       "      <th>LastOccurrenceDate</th>\n",
       "      <th>DaysSinceLastOccurrence</th>\n",
       "      <th>Eligible_within_30days</th>\n",
       "    </tr>\n",
       "  </thead>\n",
       "  <tbody>\n",
       "    <tr>\n",
       "      <th>1750087</th>\n",
       "      <td>0</td>\n",
       "      <td>2015-09-22</td>\n",
       "      <td>16</td>\n",
       "      <td>0</td>\n",
       "      <td>NaT</td>\n",
       "      <td>NaN</td>\n",
       "      <td>False</td>\n",
       "    </tr>\n",
       "    <tr>\n",
       "      <th>1473893</th>\n",
       "      <td>0</td>\n",
       "      <td>2018-04-13</td>\n",
       "      <td>32</td>\n",
       "      <td>0</td>\n",
       "      <td>NaT</td>\n",
       "      <td>NaN</td>\n",
       "      <td>False</td>\n",
       "    </tr>\n",
       "    <tr>\n",
       "      <th>1387922</th>\n",
       "      <td>0</td>\n",
       "      <td>2018-05-02</td>\n",
       "      <td>16</td>\n",
       "      <td>0</td>\n",
       "      <td>NaT</td>\n",
       "      <td>NaN</td>\n",
       "      <td>False</td>\n",
       "    </tr>\n",
       "    <tr>\n",
       "      <th>223191</th>\n",
       "      <td>0</td>\n",
       "      <td>2018-11-23</td>\n",
       "      <td>20</td>\n",
       "      <td>0</td>\n",
       "      <td>NaT</td>\n",
       "      <td>NaN</td>\n",
       "      <td>False</td>\n",
       "    </tr>\n",
       "    <tr>\n",
       "      <th>557302</th>\n",
       "      <td>0</td>\n",
       "      <td>2018-11-23</td>\n",
       "      <td>18</td>\n",
       "      <td>0</td>\n",
       "      <td>NaT</td>\n",
       "      <td>NaN</td>\n",
       "      <td>False</td>\n",
       "    </tr>\n",
       "  </tbody>\n",
       "</table>\n",
       "</div>"
      ],
      "text/plain": [
       "         Patient-Uid       Date  Incident  Target_Drug_Taken  \\\n",
       "1750087            0 2015-09-22        16                  0   \n",
       "1473893            0 2018-04-13        32                  0   \n",
       "1387922            0 2018-05-02        16                  0   \n",
       "223191             0 2018-11-23        20                  0   \n",
       "557302             0 2018-11-23        18                  0   \n",
       "\n",
       "        LastOccurrenceDate  DaysSinceLastOccurrence  Eligible_within_30days  \n",
       "1750087                NaT                      NaN                   False  \n",
       "1473893                NaT                      NaN                   False  \n",
       "1387922                NaT                      NaN                   False  \n",
       "223191                 NaT                      NaN                   False  \n",
       "557302                 NaT                      NaN                   False  "
      ]
     },
     "execution_count": 22,
     "metadata": {},
     "output_type": "execute_result"
    }
   ],
   "source": [
    "df1.head()"
   ]
  },
  {
   "cell_type": "code",
   "execution_count": 23,
   "metadata": {},
   "outputs": [],
   "source": [
    "df1['Eligible_within_30days']=df1['Eligible_within_30days'].map({False:0,True:1})"
   ]
  },
  {
   "cell_type": "code",
   "execution_count": 24,
   "metadata": {},
   "outputs": [
    {
     "data": {
      "text/html": [
       "<div>\n",
       "<style scoped>\n",
       "    .dataframe tbody tr th:only-of-type {\n",
       "        vertical-align: middle;\n",
       "    }\n",
       "\n",
       "    .dataframe tbody tr th {\n",
       "        vertical-align: top;\n",
       "    }\n",
       "\n",
       "    .dataframe thead th {\n",
       "        text-align: right;\n",
       "    }\n",
       "</style>\n",
       "<table border=\"1\" class=\"dataframe\">\n",
       "  <thead>\n",
       "    <tr style=\"text-align: right;\">\n",
       "      <th></th>\n",
       "      <th>Patient-Uid</th>\n",
       "      <th>Date</th>\n",
       "      <th>Incident</th>\n",
       "      <th>Target_Drug_Taken</th>\n",
       "      <th>LastOccurrenceDate</th>\n",
       "      <th>DaysSinceLastOccurrence</th>\n",
       "      <th>Eligible_within_30days</th>\n",
       "    </tr>\n",
       "  </thead>\n",
       "  <tbody>\n",
       "    <tr>\n",
       "      <th>1750087</th>\n",
       "      <td>0</td>\n",
       "      <td>2015-09-22</td>\n",
       "      <td>16</td>\n",
       "      <td>0</td>\n",
       "      <td>NaT</td>\n",
       "      <td>NaN</td>\n",
       "      <td>0</td>\n",
       "    </tr>\n",
       "    <tr>\n",
       "      <th>1473893</th>\n",
       "      <td>0</td>\n",
       "      <td>2018-04-13</td>\n",
       "      <td>32</td>\n",
       "      <td>0</td>\n",
       "      <td>NaT</td>\n",
       "      <td>NaN</td>\n",
       "      <td>0</td>\n",
       "    </tr>\n",
       "    <tr>\n",
       "      <th>1387922</th>\n",
       "      <td>0</td>\n",
       "      <td>2018-05-02</td>\n",
       "      <td>16</td>\n",
       "      <td>0</td>\n",
       "      <td>NaT</td>\n",
       "      <td>NaN</td>\n",
       "      <td>0</td>\n",
       "    </tr>\n",
       "    <tr>\n",
       "      <th>223191</th>\n",
       "      <td>0</td>\n",
       "      <td>2018-11-23</td>\n",
       "      <td>20</td>\n",
       "      <td>0</td>\n",
       "      <td>NaT</td>\n",
       "      <td>NaN</td>\n",
       "      <td>0</td>\n",
       "    </tr>\n",
       "    <tr>\n",
       "      <th>557302</th>\n",
       "      <td>0</td>\n",
       "      <td>2018-11-23</td>\n",
       "      <td>18</td>\n",
       "      <td>0</td>\n",
       "      <td>NaT</td>\n",
       "      <td>NaN</td>\n",
       "      <td>0</td>\n",
       "    </tr>\n",
       "  </tbody>\n",
       "</table>\n",
       "</div>"
      ],
      "text/plain": [
       "         Patient-Uid       Date  Incident  Target_Drug_Taken  \\\n",
       "1750087            0 2015-09-22        16                  0   \n",
       "1473893            0 2018-04-13        32                  0   \n",
       "1387922            0 2018-05-02        16                  0   \n",
       "223191             0 2018-11-23        20                  0   \n",
       "557302             0 2018-11-23        18                  0   \n",
       "\n",
       "        LastOccurrenceDate  DaysSinceLastOccurrence  Eligible_within_30days  \n",
       "1750087                NaT                      NaN                       0  \n",
       "1473893                NaT                      NaN                       0  \n",
       "1387922                NaT                      NaN                       0  \n",
       "223191                 NaT                      NaN                       0  \n",
       "557302                 NaT                      NaN                       0  "
      ]
     },
     "execution_count": 24,
     "metadata": {},
     "output_type": "execute_result"
    }
   ],
   "source": [
    "df1.head()"
   ]
  },
  {
   "cell_type": "code",
   "execution_count": 25,
   "metadata": {},
   "outputs": [],
   "source": [
    "df1.fillna(-999, inplace=True)"
   ]
  },
  {
   "cell_type": "code",
   "execution_count": 26,
   "metadata": {},
   "outputs": [
    {
     "data": {
      "text/html": [
       "<div>\n",
       "<style scoped>\n",
       "    .dataframe tbody tr th:only-of-type {\n",
       "        vertical-align: middle;\n",
       "    }\n",
       "\n",
       "    .dataframe tbody tr th {\n",
       "        vertical-align: top;\n",
       "    }\n",
       "\n",
       "    .dataframe thead th {\n",
       "        text-align: right;\n",
       "    }\n",
       "</style>\n",
       "<table border=\"1\" class=\"dataframe\">\n",
       "  <thead>\n",
       "    <tr style=\"text-align: right;\">\n",
       "      <th></th>\n",
       "      <th>Patient-Uid</th>\n",
       "      <th>Date</th>\n",
       "      <th>Incident</th>\n",
       "      <th>Target_Drug_Taken</th>\n",
       "      <th>LastOccurrenceDate</th>\n",
       "      <th>DaysSinceLastOccurrence</th>\n",
       "      <th>Eligible_within_30days</th>\n",
       "    </tr>\n",
       "  </thead>\n",
       "  <tbody>\n",
       "    <tr>\n",
       "      <th>1750087</th>\n",
       "      <td>0</td>\n",
       "      <td>2015-09-22</td>\n",
       "      <td>16</td>\n",
       "      <td>0</td>\n",
       "      <td>-999</td>\n",
       "      <td>-999.0</td>\n",
       "      <td>0</td>\n",
       "    </tr>\n",
       "    <tr>\n",
       "      <th>1473893</th>\n",
       "      <td>0</td>\n",
       "      <td>2018-04-13</td>\n",
       "      <td>32</td>\n",
       "      <td>0</td>\n",
       "      <td>-999</td>\n",
       "      <td>-999.0</td>\n",
       "      <td>0</td>\n",
       "    </tr>\n",
       "    <tr>\n",
       "      <th>1387922</th>\n",
       "      <td>0</td>\n",
       "      <td>2018-05-02</td>\n",
       "      <td>16</td>\n",
       "      <td>0</td>\n",
       "      <td>-999</td>\n",
       "      <td>-999.0</td>\n",
       "      <td>0</td>\n",
       "    </tr>\n",
       "    <tr>\n",
       "      <th>223191</th>\n",
       "      <td>0</td>\n",
       "      <td>2018-11-23</td>\n",
       "      <td>20</td>\n",
       "      <td>0</td>\n",
       "      <td>-999</td>\n",
       "      <td>-999.0</td>\n",
       "      <td>0</td>\n",
       "    </tr>\n",
       "    <tr>\n",
       "      <th>557302</th>\n",
       "      <td>0</td>\n",
       "      <td>2018-11-23</td>\n",
       "      <td>18</td>\n",
       "      <td>0</td>\n",
       "      <td>-999</td>\n",
       "      <td>-999.0</td>\n",
       "      <td>0</td>\n",
       "    </tr>\n",
       "  </tbody>\n",
       "</table>\n",
       "</div>"
      ],
      "text/plain": [
       "         Patient-Uid       Date  Incident  Target_Drug_Taken  \\\n",
       "1750087            0 2015-09-22        16                  0   \n",
       "1473893            0 2018-04-13        32                  0   \n",
       "1387922            0 2018-05-02        16                  0   \n",
       "223191             0 2018-11-23        20                  0   \n",
       "557302             0 2018-11-23        18                  0   \n",
       "\n",
       "        LastOccurrenceDate  DaysSinceLastOccurrence  Eligible_within_30days  \n",
       "1750087               -999                   -999.0                       0  \n",
       "1473893               -999                   -999.0                       0  \n",
       "1387922               -999                   -999.0                       0  \n",
       "223191                -999                   -999.0                       0  \n",
       "557302                -999                   -999.0                       0  "
      ]
     },
     "execution_count": 26,
     "metadata": {},
     "output_type": "execute_result"
    }
   ],
   "source": [
    "df1.head()"
   ]
  },
  {
   "cell_type": "code",
   "execution_count": 27,
   "metadata": {
    "colab": {
     "base_uri": "https://localhost:8080/",
     "height": 814
    },
    "id": "WCV5SEKedKmK",
    "outputId": "d949f7a0-7483-4b6f-e560-65891dc32f85"
   },
   "outputs": [],
   "source": [
    "df1['dayofweek'] = df1.Date.dt.dayofweek\n",
    "df1['quarter'] = df1.Date.dt.quarter\n",
    "df1['month'] = df1.Date.dt.month\n",
    "df1['year'] = df1.Date.dt.year\n",
    "df1['dayofyear'] = df1.Date.dt.dayofyear\n",
    "df1['dayofmonth'] = df1.Date.dt.day\n",
    "df1['weekofyear'] = df1.Date.dt.isocalendar().week "
   ]
  },
  {
   "cell_type": "code",
   "execution_count": 28,
   "metadata": {
    "colab": {
     "base_uri": "https://localhost:8080/"
    },
    "id": "z1EOogKHm_Fx",
    "outputId": "298dd857-c2fd-4c7f-a5a5-341338f07a84"
   },
   "outputs": [
    {
     "data": {
      "text/plain": [
       "array([0, 1], dtype=int64)"
      ]
     },
     "execution_count": 28,
     "metadata": {},
     "output_type": "execute_result"
    }
   ],
   "source": [
    "df1.Eligible_within_30days.unique()"
   ]
  },
  {
   "cell_type": "code",
   "execution_count": 29,
   "metadata": {},
   "outputs": [
    {
     "name": "stdout",
     "output_type": "stream",
     "text": [
      "2015-04-07 00:00:00 2020-09-03 00:00:00\n"
     ]
    }
   ],
   "source": [
    "oldest_date = df1['Date'].min()\n",
    "latest_date = df1['Date'].max()\n",
    "print(oldest_date, latest_date)"
   ]
  },
  {
   "cell_type": "code",
   "execution_count": 30,
   "metadata": {},
   "outputs": [
    {
     "data": {
      "text/plain": [
       "Patient-Uid                         int32\n",
       "Date                       datetime64[ns]\n",
       "Incident                            int32\n",
       "Target_Drug_Taken                   int64\n",
       "LastOccurrenceDate                 object\n",
       "DaysSinceLastOccurrence           float64\n",
       "Eligible_within_30days              int64\n",
       "dayofweek                           int64\n",
       "quarter                             int64\n",
       "month                               int64\n",
       "year                                int64\n",
       "dayofyear                           int64\n",
       "dayofmonth                          int64\n",
       "weekofyear                         UInt32\n",
       "dtype: object"
      ]
     },
     "execution_count": 30,
     "metadata": {},
     "output_type": "execute_result"
    }
   ],
   "source": [
    "df1.dtypes"
   ]
  },
  {
   "cell_type": "code",
   "execution_count": 31,
   "metadata": {},
   "outputs": [
    {
     "data": {
      "text/plain": [
       "dtype('int64')"
      ]
     },
     "execution_count": 31,
     "metadata": {},
     "output_type": "execute_result"
    }
   ],
   "source": [
    "df1['weekofyear']=df1['weekofyear'].astype(\"int64\")  #We have to change datatype of weekofyear\n",
    "df1['weekofyear'].dtype"
   ]
  },
  {
   "cell_type": "code",
   "execution_count": 32,
   "metadata": {},
   "outputs": [],
   "source": [
    "ff1=df1.copy()"
   ]
  },
  {
   "cell_type": "code",
   "execution_count": 33,
   "metadata": {},
   "outputs": [
    {
     "data": {
      "text/plain": [
       "array([    0,     1,     2, ..., 27030, 27031, 27032])"
      ]
     },
     "execution_count": 33,
     "metadata": {},
     "output_type": "execute_result"
    }
   ],
   "source": [
    "df1['Patient-Uid'].unique()"
   ]
  },
  {
   "cell_type": "code",
   "execution_count": 34,
   "metadata": {},
   "outputs": [],
   "source": [
    "train = df1.loc[df1['Patient-Uid'] < 20000]\n",
    "test = df1.loc[df1['Patient-Uid'] >= 20000]"
   ]
  },
  {
   "cell_type": "code",
   "execution_count": 35,
   "metadata": {},
   "outputs": [
    {
     "name": "stdout",
     "output_type": "stream",
     "text": [
      "(2160984, 10)\n",
      "(1024313, 10)\n"
     ]
    }
   ],
   "source": [
    "train.drop(columns=['Date','LastOccurrenceDate','Patient-Uid','DaysSinceLastOccurrence'], inplace=True)\n",
    "test.drop(columns=['Date','LastOccurrenceDate','Patient-Uid','DaysSinceLastOccurrence'], inplace=True)\n",
    "\n",
    "X_train = train.drop(columns=['Eligible_within_30days'])\n",
    "y_train = train['Eligible_within_30days']\n",
    "\n",
    "X_test = train.drop(columns=['Eligible_within_30days'])\n",
    "y_test = train['Eligible_within_30days']\n",
    "print(train.shape)\n",
    "print(test.shape)"
   ]
  },
  {
   "cell_type": "code",
   "execution_count": 36,
   "metadata": {},
   "outputs": [],
   "source": [
    "#df1.loc[df1.LastOccurrenceDate.apply(lambda x: type(x)==pd._libs.tslibs.timestamps.Timestamp)]['LastOccurrenceDate']\n",
    "#df1['LastOccurrenceDate'] = pd.to_datetime(df1.loc[df1.LastOccurrenceDate.apply(lambda x: type(x)==pd._libs.tslibs.timestamps.Timestamp)]['LastOccurrenceDate']) "
   ]
  },
  {
   "cell_type": "code",
   "execution_count": 37,
   "metadata": {},
   "outputs": [
    {
     "data": {
      "text/plain": [
       "Incident             int32\n",
       "Target_Drug_Taken    int64\n",
       "dayofweek            int64\n",
       "quarter              int64\n",
       "month                int64\n",
       "year                 int64\n",
       "dayofyear            int64\n",
       "dayofmonth           int64\n",
       "weekofyear           int64\n",
       "dtype: object"
      ]
     },
     "execution_count": 37,
     "metadata": {},
     "output_type": "execute_result"
    }
   ],
   "source": [
    "X_train.dtypes"
   ]
  },
  {
   "cell_type": "code",
   "execution_count": 38,
   "metadata": {
    "scrolled": false
   },
   "outputs": [
    {
     "data": {
      "text/plain": [
       "0.9396950648408318"
      ]
     },
     "execution_count": 38,
     "metadata": {},
     "output_type": "execute_result"
    }
   ],
   "source": [
    "model = XGBClassifier(n_estimators=100)\n",
    "model.fit(X_train,y_train) #train the model\n",
    "model.score(X_test, y_test)"
   ]
  },
  {
   "cell_type": "code",
   "execution_count": 39,
   "metadata": {},
   "outputs": [
    {
     "data": {
      "text/plain": [
       "0.3439092172301992"
      ]
     },
     "execution_count": 39,
     "metadata": {},
     "output_type": "execute_result"
    }
   ],
   "source": [
    "y_pred = model.predict(X_test)\n",
    "f1_score(y_test, y_pred)"
   ]
  },
  {
   "cell_type": "code",
   "execution_count": 40,
   "metadata": {},
   "outputs": [
    {
     "data": {
      "image/png": "[encoded data removed]",
      "text/plain": [
       "<Figure size 640x480 with 1 Axes>"
      ]
     },
     "metadata": {},
     "output_type": "display_data"
    }
   ],
   "source": [
    "fi = pd.DataFrame(data=model.feature_importances_,\n",
    "             index=model.feature_names_in_,\n",
    "             columns=['importance'])\n",
    "fi.sort_values('importance').plot(kind='barh', title='Feature Importance')\n",
    "plt.show()"
   ]
  },
  {
   "cell_type": "code",
   "execution_count": 41,
   "metadata": {},
   "outputs": [
    {
     "data": {
      "text/plain": [
       "0.20322388333486197"
      ]
     },
     "execution_count": 41,
     "metadata": {},
     "output_type": "execute_result"
    }
   ],
   "source": [
    "from sklearn.ensemble import RandomForestClassifier\n",
    "from sklearn.metrics import accuracy_score\n",
    "\n",
    "rf = RandomForestClassifier(n_estimators= 100, max_depth = 2, max_features='sqrt')\n",
    "rf.fit(X_train, y_train)\n",
    "y_pred=rf.predict(X_test)\n",
    "f1_score(y_test, y_pred)"
   ]
  },
  {
   "cell_type": "code",
   "execution_count": 42,
   "metadata": {},
   "outputs": [
    {
     "data": {
      "image/png": "[encoded data removed]",
      "text/plain": [
       "<Figure size 640x480 with 1 Axes>"
      ]
     },
     "metadata": {},
     "output_type": "display_data"
    }
   ],
   "source": [
    "fi = pd.DataFrame(data=rf.feature_importances_,\n",
    "             index=rf.feature_names_in_,\n",
    "             columns=['importance'])\n",
    "fi.sort_values('importance').plot(kind='barh', title='Feature Importance')\n",
    "plt.show()"
   ]
  },
  {
   "cell_type": "code",
   "execution_count": 43,
   "metadata": {},
   "outputs": [
    {
     "data": {
      "text/plain": [
       "0.3630107697968357"
      ]
     },
     "execution_count": 43,
     "metadata": {},
     "output_type": "execute_result"
    }
   ],
   "source": [
    "from sklearn.tree import DecisionTreeClassifier\n",
    "\n",
    "dt = DecisionTreeClassifier()\n",
    "dt.fit(X_train ,y_train) \n",
    "y_pred = dt.predict(X_test)\n",
    "f1_score(y_test, y_pred)"
   ]
  },
  {
   "cell_type": "code",
   "execution_count": 44,
   "metadata": {},
   "outputs": [
    {
     "data": {
      "image/png": "[encoded data removed]",
      "text/plain": [
       "<Figure size 640x480 with 1 Axes>"
      ]
     },
     "metadata": {},
     "output_type": "display_data"
    }
   ],
   "source": [
    "fi = pd.DataFrame(data=dt.feature_importances_,\n",
    "             index=dt.feature_names_in_,\n",
    "             columns=['importance'])\n",
    "fi.sort_values('importance').plot(kind='barh', title='Feature Importance')\n",
    "plt.show()"
   ]
  },
  {
   "cell_type": "code",
   "execution_count": 47,
   "metadata": {},
   "outputs": [
    {
     "data": {
      "text/plain": [
       "True"
      ]
     },
     "execution_count": 47,
     "metadata": {},
     "output_type": "execute_result"
    }
   ],
   "source": [
    "s1.isdisjoint(s2)"
   ]
  },
  {
   "cell_type": "markdown",
   "metadata": {
    "id": "P_2NJMwV7p6o"
   },
   "source": [
    "**Xg Boost Gives the Better F1 Score**"
   ]
  }
 ],
 "metadata": {
  "colab": {
   "authorship_tag": "ABX9TyMBQi0KBF6s7zC0SsEL3h2U",
   "include_colab_link": true,
   "provenance": []
  },
  "hide_input": false,
  "kernelspec": {
   "display_name": "Python 3 (ipykernel)",
   "language": "python",
   "name": "python3"
  },
  "language_info": {
   "codemirror_mode": {
    "name": "ipython",
    "version": 3
   },
   "file_extension": ".py",
   "mimetype": "text/x-python",
   "name": "python",
   "nbconvert_exporter": "python",
   "pygments_lexer": "ipython3",
   "version": "3.9.13"
  }
 },
 "nbformat": 4,
 "nbformat_minor": 1
}
